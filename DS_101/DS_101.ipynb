{
 "metadata": {
  "kernelspec": {
   "display_name": "Streamlit Notebook",
   "name": "streamlit"
  },
  "lastEditStatus": {
   "authorEmail": "chase.romano@snowflake.com",
   "authorId": "322325853055",
   "authorName": "CROMANO",
   "lastEditTime": 1745336489935,
   "notebookId": "vg6vxoxx4kzpwv4tatxy",
   "sessionId": "a779a63e-6698-4d35-ae5e-1c488937a7cd"
  }
 },
 "nbformat_minor": 5,
 "nbformat": 4,
 "cells": [
  {
   "cell_type": "code",
   "execution_count": null,
   "id": "1346ac9c-b21f-44fd-b6a1-70de9924cae4",
   "metadata": {
    "codeCollapsed": false,
    "collapsed": false,
    "language": "python",
    "name": "pip_install",
    "resultHeight": 306
   },
   "outputs": [],
   "source": [
    "# !pip install xgboost==2.1.1\n",
    "!pip install xgboost --upgrade\n"
   ]
  },
  {
   "cell_type": "code",
   "execution_count": null,
   "id": "3775908f-ca36-4846-8f38-5adca39217f2",
   "metadata": {
    "collapsed": false,
    "language": "python",
    "name": "imports",
    "resultHeight": 0
   },
   "outputs": [],
   "source": [
    "# Import python packages\n",
    "import streamlit as st\n",
    "import pandas as pd\n",
    "from sklearn.model_selection import train_test_split\n",
    "from xgboost import XGBClassifier\n",
    "from sklearn.model_selection import GridSearchCV\n",
    "from snowflake.ml.registry import Registry\n",
    "import ast\n",
    "\n",
    "# We can also use Snowpark for our analyses!\n",
    "from snowflake.snowpark.context import get_active_session\n",
    "session = get_active_session()\n"
   ]
  },
  {
   "cell_type": "code",
   "execution_count": null,
   "id": "56066407-bba0-4d10-98f5-2f6dae0145d3",
   "metadata": {
    "collapsed": false,
    "language": "python",
    "name": "get_data",
    "resultHeight": 0
   },
   "outputs": [],
   "source": [
    "titanic = pd.read_csv('titanic_snowflake.csv')\n",
    "titanic = titanic.drop([\"AGE\", \n",
    "                        \"DECK\", \n",
    "                        \"ALIVE\",\n",
    "                        \"ADULT_MALE\",\n",
    "                        \"EMBARKED\",\n",
    "                        \"PCLASS\",\n",
    "                        \"ALONE\",\n",
    "                        \"SEX\"],axis=1)\n",
    "titanic.head()\n",
    "titanic.head()"
   ]
  },
  {
   "cell_type": "code",
   "execution_count": null,
   "id": "8a8bb52d-2b0d-45ff-aa1d-a8df0bbb127b",
   "metadata": {
    "collapsed": false,
    "language": "python",
    "name": "drop_nulls",
    "resultHeight": 0
   },
   "outputs": [],
   "source": [
    "titanic.dropna(inplace=True)"
   ]
  },
  {
   "cell_type": "code",
   "execution_count": null,
   "id": "bb1acb42-85cd-4fc2-a1e6-edcc5704ec45",
   "metadata": {
    "collapsed": false,
    "language": "python",
    "name": "get_dummies",
    "resultHeight": 0
   },
   "outputs": [],
   "source": [
    "titanic = pd.get_dummies(titanic, drop_first=True)\n",
    "\n",
    "# Convert all boolean columns to integers\n",
    "titanic = titanic.apply(lambda x: x.astype(int) if x.dtype == 'bool' else x)\n",
    "\n",
    "titanic.dtypes"
   ]
  },
  {
   "cell_type": "code",
   "execution_count": null,
   "id": "fab08374-e406-4a7c-9912-9a92567f5c74",
   "metadata": {
    "collapsed": false,
    "language": "python",
    "name": "x_y",
    "resultHeight": 0
   },
   "outputs": [],
   "source": [
    "#now we will get the train data and label\n",
    "x = titanic.drop('SURVIVED',axis=1)\n",
    "y = titanic.SURVIVED"
   ]
  },
  {
   "cell_type": "code",
   "execution_count": null,
   "id": "96a8ccdf-943d-4530-9458-f68f93b96dd6",
   "metadata": {
    "collapsed": false,
    "language": "python",
    "name": "split_test_train",
    "resultHeight": 0
   },
   "outputs": [],
   "source": [
    "#make the x for train and test (also called validation data) \n",
    "xtrain,xtest,ytrain,ytest = train_test_split(x,y,train_size=.85,random_state=1234)"
   ]
  },
  {
   "cell_type": "code",
   "execution_count": null,
   "id": "544a1c2f-3a07-46e5-a3ee-f72c792fe7ea",
   "metadata": {
    "collapsed": false,
    "language": "python",
    "name": "param_grid_def",
    "resultHeight": 0
   },
   "outputs": [],
   "source": [
    "param_grid = {\n",
    "    \"n_estimators\": [100, 200],\n",
    "    # \"learning_rate\": [0.1, 0.5],\n",
    "    # \"max_depth\": [1,2,3,4,5,6],\n",
    "    # \"min_child_weight\": [1, 6]\n",
    "}"
   ]
  },
  {
   "cell_type": "code",
   "execution_count": null,
   "id": "84958eaf-df33-48ba-baa9-14659c493135",
   "metadata": {
    "collapsed": false,
    "language": "python",
    "name": "train_model",
    "resultHeight": 0
   },
   "outputs": [],
   "source": [
    "model = XGBClassifier(objective='binary:logistic', \n",
    "                      eval_metric='logloss')\n",
    "\n",
    "grid_search = GridSearchCV(estimator=model, \n",
    "                           param_grid=param_grid)\n",
    "\n",
    "grid_search.fit(xtrain, ytrain)"
   ]
  },
  {
   "cell_type": "code",
   "execution_count": null,
   "id": "9597a1b5-fa80-482b-9279-96dc72020697",
   "metadata": {
    "collapsed": false,
    "language": "python",
    "name": "get_best_params",
    "resultHeight": 0
   },
   "outputs": [],
   "source": [
    "# Best parameters and score\n",
    "best_params = grid_search.best_params_\n",
    "best_score = grid_search.best_score_\n",
    "print(\"Best Parameters:\", best_params)\n",
    "print(\"Best Score:\", best_score)\n",
    "\n",
    "# Evaluate the best model on the test set\n",
    "best_model = grid_search.best_estimator_\n",
    "test_score = best_model.score(xtest, ytest)\n",
    "print(\"Test Score:\", test_score)"
   ]
  },
  {
   "cell_type": "code",
   "execution_count": null,
   "id": "f0e53e21-e9d6-453d-8149-448270476258",
   "metadata": {
    "collapsed": false,
    "language": "python",
    "name": "show_metrics",
    "resultHeight": 0
   },
   "outputs": [],
   "source": [
    "metrics = {\n",
    "    \"Accuracy\": best_score,\n",
    "    \"Params\": best_params\n",
    "}\n",
    "\n",
    "metrics"
   ]
  },
  {
   "cell_type": "code",
   "execution_count": null,
   "id": "b263614f-9d84-463f-a37d-f4b787889ec4",
   "metadata": {
    "collapsed": false,
    "language": "python",
    "name": "register_model",
    "resultHeight": 0
   },
   "outputs": [],
   "source": [
    "from snowflake.ml.registry import Registry\n",
    "# Get sample input data to pass into the registry logging function\n",
    "X = xtrain.sample(n=1)\n",
    "\n",
    "# Create a registry and log the model\n",
    "# You can specify a different DB and Schema if you'd like\n",
    "# otherwise it uses the session context\n",
    "reg = Registry(session=session)\n",
    "\n",
    "reg_df = reg.show_models()\n",
    "\n",
    "# Define model name and version (use uppercase for name)\n",
    "model_name = \"TITANIC\"\n",
    "\n",
    "titanic_model = reg.log_model(\n",
    "    model_name=model_name,\n",
    "    options = {\n",
    "    \"relax_version\": True,\n",
    "    },\n",
    "    #version_name=\"V_2\",\n",
    "    model=best_model,\n",
    "    sample_input_data=X,\n",
    "    metrics=metrics,\n",
    ")"
   ]
  },
  {
   "cell_type": "code",
   "execution_count": null,
   "id": "18c5b6b9-9b81-4671-b3a2-4d23d437023e",
   "metadata": {
    "collapsed": false,
    "language": "python",
    "name": "show_models",
    "resultHeight": 0
   },
   "outputs": [],
   "source": [
    "models_df = reg.show_models()\n",
    "models_df[models_df['name'] == model_name]"
   ]
  },
  {
   "cell_type": "code",
   "execution_count": null,
   "id": "5538ef69-e58c-4c1d-8af0-3c99c0e9f14e",
   "metadata": {
    "collapsed": false,
    "language": "python",
    "name": "show_model_versions",
    "resultHeight": 0
   },
   "outputs": [],
   "source": [
    "reg.get_model(model_name).show_versions()"
   ]
  },
  {
   "cell_type": "code",
   "execution_count": null,
   "id": "774fde38-6f47-4919-8eca-19619f1a8818",
   "metadata": {
    "collapsed": false,
    "language": "python",
    "name": "promote_model",
    "resultHeight": 0
   },
   "outputs": [],
   "source": [
    "m = reg.get_model(model_name)\n",
    "m.default = \"FRESH_LION_2\"\n",
    "mv = m.default\n",
    "mv.version_name"
   ]
  },
  {
   "cell_type": "code",
   "execution_count": null,
   "id": "51a69210-dc84-4d01-b079-dd726b288c31",
   "metadata": {
    "collapsed": false,
    "language": "python",
    "name": "predict_remotely",
    "resultHeight": 0
   },
   "outputs": [],
   "source": [
    "remote_prediction = mv.run(xtest, function_name=\"predict_proba\")\n",
    "remote_prediction.head()"
   ]
  },
  {
   "cell_type": "code",
   "execution_count": null,
   "id": "75c919f2-8069-4dcf-9cff-999f9815602f",
   "metadata": {
    "collapsed": false,
    "language": "python",
    "name": "write_test_to_SF",
    "resultHeight": 0
   },
   "outputs": [],
   "source": [
    "test_sf = session.create_dataframe(xtest)\n",
    "test_sf.write.mode(\"overwrite\").save_as_table(\"test_pd\")\n",
    "session.table('test_pd').show()"
   ]
  },
  {
   "cell_type": "code",
   "execution_count": null,
   "id": "19e55d37-c431-430e-b945-0c8536463a95",
   "metadata": {
    "language": "python",
    "name": "create_table",
    "resultHeight": 0
   },
   "outputs": [],
   "source": [
    "# Create a Snowpark DataFrame that is configured to load data from the CSV file\n",
    "titanic_df = (\n",
    "    session.read.option(\"infer_schema\", True)\n",
    "    .option(\"PARSE_HEADER\", True)\n",
    "    .csv(\"@ml_data/titanic.csv\")\n",
    ")\n",
    "titanic_df.show()"
   ]
  },
  {
   "cell_type": "code",
   "execution_count": null,
   "id": "beb2ed35-07bb-4ba3-b209-32a25fb01e72",
   "metadata": {
    "collapsed": false,
    "language": "sql",
    "name": "predict_with_sql",
    "resultHeight": 0
   },
   "outputs": [],
   "source": [
    "select *, round(TITANIC!predict_proba(*):output_feature_0,2)\n",
    "as surv_pred\n",
    "from test_pd"
   ]
  }
 ]
}